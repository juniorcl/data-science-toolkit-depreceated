{
 "cells": [
  {
   "cell_type": "markdown",
   "metadata": {},
   "source": [
    "# Imports"
   ]
  },
  {
   "cell_type": "code",
   "execution_count": 35,
   "metadata": {},
   "outputs": [],
   "source": [
    "import numpy  as np\n",
    "import pandas as pd\n",
    "\n",
    "import matplotlib.pyplot as plt\n",
    "\n",
    "from scipy.stats      import kurtosis, norm\n",
    "from sklearn.datasets import load_diabetes"
   ]
  },
  {
   "cell_type": "markdown",
   "metadata": {},
   "source": [
    "## Loading Datasets"
   ]
  },
  {
   "cell_type": "code",
   "execution_count": 36,
   "metadata": {},
   "outputs": [],
   "source": [
    "X, y = load_diabetes(return_X_y=True, as_frame=True, scaled=False)\n",
    "\n",
    "X_append = pd.DataFrame({col:[np.nan, np.nan, np.nan] for col in X.columns})\n",
    "y_append = pd.DataFrame({'target':[np.nan, np.nan, np.nan]})\n",
    "\n",
    "X = pd.concat([X, X_append], axis=0)\n",
    "y = pd.concat([y, y_append], axis=0)\n",
    "\n",
    "df = pd.concat([X, y], axis=1)"
   ]
  },
  {
   "cell_type": "code",
   "execution_count": 37,
   "metadata": {},
   "outputs": [
    {
     "data": {
      "text/html": [
       "<div>\n",
       "<style scoped>\n",
       "    .dataframe tbody tr th:only-of-type {\n",
       "        vertical-align: middle;\n",
       "    }\n",
       "\n",
       "    .dataframe tbody tr th {\n",
       "        vertical-align: top;\n",
       "    }\n",
       "\n",
       "    .dataframe thead th {\n",
       "        text-align: right;\n",
       "    }\n",
       "</style>\n",
       "<table border=\"1\" class=\"dataframe\">\n",
       "  <thead>\n",
       "    <tr style=\"text-align: right;\">\n",
       "      <th></th>\n",
       "      <th>age</th>\n",
       "      <th>sex</th>\n",
       "      <th>bmi</th>\n",
       "      <th>bp</th>\n",
       "      <th>s1</th>\n",
       "      <th>s2</th>\n",
       "      <th>s3</th>\n",
       "      <th>s4</th>\n",
       "      <th>s5</th>\n",
       "      <th>s6</th>\n",
       "      <th>target</th>\n",
       "    </tr>\n",
       "  </thead>\n",
       "  <tbody>\n",
       "    <tr>\n",
       "      <th>0</th>\n",
       "      <td>59.0</td>\n",
       "      <td>2.0</td>\n",
       "      <td>32.1</td>\n",
       "      <td>101.0</td>\n",
       "      <td>157.0</td>\n",
       "      <td>93.2</td>\n",
       "      <td>38.0</td>\n",
       "      <td>4.0</td>\n",
       "      <td>4.8598</td>\n",
       "      <td>87.0</td>\n",
       "      <td>151.0</td>\n",
       "    </tr>\n",
       "    <tr>\n",
       "      <th>1</th>\n",
       "      <td>48.0</td>\n",
       "      <td>1.0</td>\n",
       "      <td>21.6</td>\n",
       "      <td>87.0</td>\n",
       "      <td>183.0</td>\n",
       "      <td>103.2</td>\n",
       "      <td>70.0</td>\n",
       "      <td>3.0</td>\n",
       "      <td>3.8918</td>\n",
       "      <td>69.0</td>\n",
       "      <td>75.0</td>\n",
       "    </tr>\n",
       "    <tr>\n",
       "      <th>2</th>\n",
       "      <td>72.0</td>\n",
       "      <td>2.0</td>\n",
       "      <td>30.5</td>\n",
       "      <td>93.0</td>\n",
       "      <td>156.0</td>\n",
       "      <td>93.6</td>\n",
       "      <td>41.0</td>\n",
       "      <td>4.0</td>\n",
       "      <td>4.6728</td>\n",
       "      <td>85.0</td>\n",
       "      <td>141.0</td>\n",
       "    </tr>\n",
       "    <tr>\n",
       "      <th>3</th>\n",
       "      <td>24.0</td>\n",
       "      <td>1.0</td>\n",
       "      <td>25.3</td>\n",
       "      <td>84.0</td>\n",
       "      <td>198.0</td>\n",
       "      <td>131.4</td>\n",
       "      <td>40.0</td>\n",
       "      <td>5.0</td>\n",
       "      <td>4.8903</td>\n",
       "      <td>89.0</td>\n",
       "      <td>206.0</td>\n",
       "    </tr>\n",
       "    <tr>\n",
       "      <th>4</th>\n",
       "      <td>50.0</td>\n",
       "      <td>1.0</td>\n",
       "      <td>23.0</td>\n",
       "      <td>101.0</td>\n",
       "      <td>192.0</td>\n",
       "      <td>125.4</td>\n",
       "      <td>52.0</td>\n",
       "      <td>4.0</td>\n",
       "      <td>4.2905</td>\n",
       "      <td>80.0</td>\n",
       "      <td>135.0</td>\n",
       "    </tr>\n",
       "  </tbody>\n",
       "</table>\n",
       "</div>"
      ],
      "text/plain": [
       "    age  sex   bmi     bp     s1     s2    s3   s4      s5    s6  target\n",
       "0  59.0  2.0  32.1  101.0  157.0   93.2  38.0  4.0  4.8598  87.0   151.0\n",
       "1  48.0  1.0  21.6   87.0  183.0  103.2  70.0  3.0  3.8918  69.0    75.0\n",
       "2  72.0  2.0  30.5   93.0  156.0   93.6  41.0  4.0  4.6728  85.0   141.0\n",
       "3  24.0  1.0  25.3   84.0  198.0  131.4  40.0  5.0  4.8903  89.0   206.0\n",
       "4  50.0  1.0  23.0  101.0  192.0  125.4  52.0  4.0  4.2905  80.0   135.0"
      ]
     },
     "execution_count": 37,
     "metadata": {},
     "output_type": "execute_result"
    }
   ],
   "source": [
    "df.head()"
   ]
  },
  {
   "cell_type": "code",
   "execution_count": 38,
   "metadata": {},
   "outputs": [],
   "source": [
    "df.loc[df['sex'].isna(), 'sex'] = 2"
   ]
  },
  {
   "cell_type": "code",
   "execution_count": 39,
   "metadata": {},
   "outputs": [
    {
     "data": {
      "text/plain": [
       "age       0.006742\n",
       "sex       0.000000\n",
       "bmi       0.006742\n",
       "bp        0.006742\n",
       "s1        0.006742\n",
       "s2        0.006742\n",
       "s3        0.006742\n",
       "s4        0.006742\n",
       "s5        0.006742\n",
       "s6        0.006742\n",
       "target    0.006742\n",
       "dtype: float64"
      ]
     },
     "execution_count": 39,
     "metadata": {},
     "output_type": "execute_result"
    }
   ],
   "source": [
    "df.isna().mean()"
   ]
  },
  {
   "cell_type": "code",
   "execution_count": 40,
   "metadata": {},
   "outputs": [
    {
     "data": {
      "text/html": [
       "<div>\n",
       "<style scoped>\n",
       "    .dataframe tbody tr th:only-of-type {\n",
       "        vertical-align: middle;\n",
       "    }\n",
       "\n",
       "    .dataframe tbody tr th {\n",
       "        vertical-align: top;\n",
       "    }\n",
       "\n",
       "    .dataframe thead th {\n",
       "        text-align: right;\n",
       "    }\n",
       "</style>\n",
       "<table border=\"1\" class=\"dataframe\">\n",
       "  <thead>\n",
       "    <tr style=\"text-align: right;\">\n",
       "      <th></th>\n",
       "      <th>age_max</th>\n",
       "      <th>age_min</th>\n",
       "      <th>age_mean</th>\n",
       "    </tr>\n",
       "    <tr>\n",
       "      <th>sex</th>\n",
       "      <th></th>\n",
       "      <th></th>\n",
       "      <th></th>\n",
       "    </tr>\n",
       "  </thead>\n",
       "  <tbody>\n",
       "    <tr>\n",
       "      <th>1.0</th>\n",
       "      <td>75.0</td>\n",
       "      <td>19.0</td>\n",
       "      <td>46.382979</td>\n",
       "    </tr>\n",
       "    <tr>\n",
       "      <th>2.0</th>\n",
       "      <td>79.0</td>\n",
       "      <td>20.0</td>\n",
       "      <td>50.942029</td>\n",
       "    </tr>\n",
       "  </tbody>\n",
       "</table>\n",
       "</div>"
      ],
      "text/plain": [
       "     age_max  age_min   age_mean\n",
       "sex                             \n",
       "1.0     75.0     19.0  46.382979\n",
       "2.0     79.0     20.0  50.942029"
      ]
     },
     "execution_count": 40,
     "metadata": {},
     "output_type": "execute_result"
    }
   ],
   "source": [
    "df.groupby(['sex'])['age'].agg(\n",
    "    age_max=('max'), \n",
    "    age_min=('min'), \n",
    "    age_mean=('mean')\n",
    ")"
   ]
  },
  {
   "cell_type": "code",
   "execution_count": 41,
   "metadata": {},
   "outputs": [],
   "source": [
    "df_aux = df.groupby(['sex']).agg(\n",
    "    {\n",
    "        'age': [\n",
    "            'sum', \n",
    "            'mean', \n",
    "            'median', \n",
    "            'min', \n",
    "            'max', \n",
    "            'std', \n",
    "            'var',\n",
    "            'skew',\n",
    "            ('kurtosis', pd.Series.kurtosis),\n",
    "            ('range', lambda i: np.max(i) - np.min(i)),\n",
    "            (f'quantile_0.25', lambda i: pd.Series.quantile(i, q=0.25)),\n",
    "            (f'quantile_0.5', lambda i: pd.Series.quantile(i, q=0.5)),\n",
    "            (f'quantile_0.75', lambda i: pd.Series.quantile(i, q=0.75)),\n",
    "            (f'nanquantile_0.25', lambda i: np.nanquantile(i, q=0.25)),\n",
    "            (f'nanquantile_0.5', lambda i: np.nanquantile(i, q=0.5)),\n",
    "            (f'nanquantile_0.75', lambda i: np.nanquantile(i, q=0.75))\n",
    "        ]\n",
    "    }\n",
    ")"
   ]
  },
  {
   "cell_type": "code",
   "execution_count": 42,
   "metadata": {},
   "outputs": [
    {
     "data": {
      "text/html": [
       "<div>\n",
       "<style scoped>\n",
       "    .dataframe tbody tr th:only-of-type {\n",
       "        vertical-align: middle;\n",
       "    }\n",
       "\n",
       "    .dataframe tbody tr th {\n",
       "        vertical-align: top;\n",
       "    }\n",
       "\n",
       "    .dataframe thead tr th {\n",
       "        text-align: left;\n",
       "    }\n",
       "\n",
       "    .dataframe thead tr:last-of-type th {\n",
       "        text-align: right;\n",
       "    }\n",
       "</style>\n",
       "<table border=\"1\" class=\"dataframe\">\n",
       "  <thead>\n",
       "    <tr>\n",
       "      <th></th>\n",
       "      <th colspan=\"16\" halign=\"left\">age</th>\n",
       "    </tr>\n",
       "    <tr>\n",
       "      <th></th>\n",
       "      <th>sum</th>\n",
       "      <th>mean</th>\n",
       "      <th>median</th>\n",
       "      <th>min</th>\n",
       "      <th>max</th>\n",
       "      <th>std</th>\n",
       "      <th>var</th>\n",
       "      <th>skew</th>\n",
       "      <th>kurtosis</th>\n",
       "      <th>range</th>\n",
       "      <th>quantile_0.25</th>\n",
       "      <th>quantile_0.5</th>\n",
       "      <th>quantile_0.75</th>\n",
       "      <th>nanquantile_0.25</th>\n",
       "      <th>nanquantile_0.5</th>\n",
       "      <th>nanquantile_0.75</th>\n",
       "    </tr>\n",
       "    <tr>\n",
       "      <th>sex</th>\n",
       "      <th></th>\n",
       "      <th></th>\n",
       "      <th></th>\n",
       "      <th></th>\n",
       "      <th></th>\n",
       "      <th></th>\n",
       "      <th></th>\n",
       "      <th></th>\n",
       "      <th></th>\n",
       "      <th></th>\n",
       "      <th></th>\n",
       "      <th></th>\n",
       "      <th></th>\n",
       "      <th></th>\n",
       "      <th></th>\n",
       "      <th></th>\n",
       "    </tr>\n",
       "  </thead>\n",
       "  <tbody>\n",
       "    <tr>\n",
       "      <th>1.0</th>\n",
       "      <td>10900.0</td>\n",
       "      <td>46.382979</td>\n",
       "      <td>48.0</td>\n",
       "      <td>19.0</td>\n",
       "      <td>75.0</td>\n",
       "      <td>13.120665</td>\n",
       "      <td>172.151846</td>\n",
       "      <td>-0.092271</td>\n",
       "      <td>-0.619879</td>\n",
       "      <td>56.0</td>\n",
       "      <td>37.0</td>\n",
       "      <td>48.0</td>\n",
       "      <td>55.0</td>\n",
       "      <td>37.0</td>\n",
       "      <td>48.0</td>\n",
       "      <td>55.0</td>\n",
       "    </tr>\n",
       "    <tr>\n",
       "      <th>2.0</th>\n",
       "      <td>10545.0</td>\n",
       "      <td>50.942029</td>\n",
       "      <td>53.0</td>\n",
       "      <td>20.0</td>\n",
       "      <td>79.0</td>\n",
       "      <td>12.697623</td>\n",
       "      <td>161.229633</td>\n",
       "      <td>-0.394162</td>\n",
       "      <td>-0.596718</td>\n",
       "      <td>59.0</td>\n",
       "      <td>41.0</td>\n",
       "      <td>53.0</td>\n",
       "      <td>60.0</td>\n",
       "      <td>41.0</td>\n",
       "      <td>53.0</td>\n",
       "      <td>60.0</td>\n",
       "    </tr>\n",
       "  </tbody>\n",
       "</table>\n",
       "</div>"
      ],
      "text/plain": [
       "         age                                                                 \\\n",
       "         sum       mean median   min   max        std         var      skew   \n",
       "sex                                                                           \n",
       "1.0  10900.0  46.382979   48.0  19.0  75.0  13.120665  172.151846 -0.092271   \n",
       "2.0  10545.0  50.942029   53.0  20.0  79.0  12.697623  161.229633 -0.394162   \n",
       "\n",
       "                                                                               \\\n",
       "     kurtosis range quantile_0.25 quantile_0.5 quantile_0.75 nanquantile_0.25   \n",
       "sex                                                                             \n",
       "1.0 -0.619879  56.0          37.0         48.0          55.0             37.0   \n",
       "2.0 -0.596718  59.0          41.0         53.0          60.0             41.0   \n",
       "\n",
       "                                      \n",
       "    nanquantile_0.5 nanquantile_0.75  \n",
       "sex                                   \n",
       "1.0            48.0             55.0  \n",
       "2.0            53.0             60.0  "
      ]
     },
     "execution_count": 42,
     "metadata": {},
     "output_type": "execute_result"
    }
   ],
   "source": [
    "df_aux"
   ]
  },
  {
   "cell_type": "code",
   "execution_count": 43,
   "metadata": {},
   "outputs": [],
   "source": [
    "df_aux.columns = ['age__' + name for name in df_aux.columns.droplevel()]"
   ]
  },
  {
   "cell_type": "code",
   "execution_count": 44,
   "metadata": {},
   "outputs": [
    {
     "data": {
      "text/html": [
       "<div>\n",
       "<style scoped>\n",
       "    .dataframe tbody tr th:only-of-type {\n",
       "        vertical-align: middle;\n",
       "    }\n",
       "\n",
       "    .dataframe tbody tr th {\n",
       "        vertical-align: top;\n",
       "    }\n",
       "\n",
       "    .dataframe thead th {\n",
       "        text-align: right;\n",
       "    }\n",
       "</style>\n",
       "<table border=\"1\" class=\"dataframe\">\n",
       "  <thead>\n",
       "    <tr style=\"text-align: right;\">\n",
       "      <th></th>\n",
       "      <th>sex</th>\n",
       "      <th>age__sum</th>\n",
       "      <th>age__mean</th>\n",
       "      <th>age__median</th>\n",
       "      <th>age__min</th>\n",
       "      <th>age__max</th>\n",
       "      <th>age__std</th>\n",
       "      <th>age__var</th>\n",
       "      <th>age__skew</th>\n",
       "      <th>age__kurtosis</th>\n",
       "      <th>age__range</th>\n",
       "      <th>age__quantile_0.25</th>\n",
       "      <th>age__quantile_0.5</th>\n",
       "      <th>age__quantile_0.75</th>\n",
       "      <th>age__nanquantile_0.25</th>\n",
       "      <th>age__nanquantile_0.5</th>\n",
       "      <th>age__nanquantile_0.75</th>\n",
       "    </tr>\n",
       "  </thead>\n",
       "  <tbody>\n",
       "    <tr>\n",
       "      <th>0</th>\n",
       "      <td>1.0</td>\n",
       "      <td>10900.0</td>\n",
       "      <td>46.382979</td>\n",
       "      <td>48.0</td>\n",
       "      <td>19.0</td>\n",
       "      <td>75.0</td>\n",
       "      <td>13.120665</td>\n",
       "      <td>172.151846</td>\n",
       "      <td>-0.092271</td>\n",
       "      <td>-0.619879</td>\n",
       "      <td>56.0</td>\n",
       "      <td>37.0</td>\n",
       "      <td>48.0</td>\n",
       "      <td>55.0</td>\n",
       "      <td>37.0</td>\n",
       "      <td>48.0</td>\n",
       "      <td>55.0</td>\n",
       "    </tr>\n",
       "    <tr>\n",
       "      <th>1</th>\n",
       "      <td>2.0</td>\n",
       "      <td>10545.0</td>\n",
       "      <td>50.942029</td>\n",
       "      <td>53.0</td>\n",
       "      <td>20.0</td>\n",
       "      <td>79.0</td>\n",
       "      <td>12.697623</td>\n",
       "      <td>161.229633</td>\n",
       "      <td>-0.394162</td>\n",
       "      <td>-0.596718</td>\n",
       "      <td>59.0</td>\n",
       "      <td>41.0</td>\n",
       "      <td>53.0</td>\n",
       "      <td>60.0</td>\n",
       "      <td>41.0</td>\n",
       "      <td>53.0</td>\n",
       "      <td>60.0</td>\n",
       "    </tr>\n",
       "  </tbody>\n",
       "</table>\n",
       "</div>"
      ],
      "text/plain": [
       "   sex  age__sum  age__mean  age__median  age__min  age__max   age__std  \\\n",
       "0  1.0   10900.0  46.382979         48.0      19.0      75.0  13.120665   \n",
       "1  2.0   10545.0  50.942029         53.0      20.0      79.0  12.697623   \n",
       "\n",
       "     age__var  age__skew  age__kurtosis  age__range  age__quantile_0.25  \\\n",
       "0  172.151846  -0.092271      -0.619879        56.0                37.0   \n",
       "1  161.229633  -0.394162      -0.596718        59.0                41.0   \n",
       "\n",
       "   age__quantile_0.5  age__quantile_0.75  age__nanquantile_0.25  \\\n",
       "0               48.0                55.0                   37.0   \n",
       "1               53.0                60.0                   41.0   \n",
       "\n",
       "   age__nanquantile_0.5  age__nanquantile_0.75  \n",
       "0                  48.0                   55.0  \n",
       "1                  53.0                   60.0  "
      ]
     },
     "execution_count": 44,
     "metadata": {},
     "output_type": "execute_result"
    }
   ],
   "source": [
    "df_aux.reset_index()"
   ]
  },
  {
   "cell_type": "code",
   "execution_count": 45,
   "metadata": {},
   "outputs": [],
   "source": [
    "list_primitives_func = [\n",
    "    'sum', 'mean', 'median', 'min', 'max', 'std', 'var', 'skew', ('kurtosis', pd.Series.kurtosis), ('range', lambda i: np.max(i) - np.min(i))]"
   ]
  },
  {
   "cell_type": "code",
   "execution_count": 46,
   "metadata": {},
   "outputs": [
    {
     "data": {
      "text/plain": [
       "[('quantile_0.05', <function __main__.<listcomp>.<lambda>(i, q=0.05)>),\n",
       " ('quantile_0.25', <function __main__.<listcomp>.<lambda>(i, q=0.25)>),\n",
       " ('quantile_0.5', <function __main__.<listcomp>.<lambda>(i, q=0.5)>),\n",
       " ('quantile_0.75', <function __main__.<listcomp>.<lambda>(i, q=0.75)>),\n",
       " ('quantile_0.95', <function __main__.<listcomp>.<lambda>(i, q=0.95)>)]"
      ]
     },
     "execution_count": 46,
     "metadata": {},
     "output_type": "execute_result"
    }
   ],
   "source": [
    "list_quantiles = [.05, 0.25, 0.50, 0.75, 0.95]\n",
    "list_quantiles_func = [(f'quantile_{q}', lambda i, q=q: pd.Series.quantile(i, q=q)) for q in list_quantiles]\n",
    "\n",
    "list_quantiles_func"
   ]
  },
  {
   "cell_type": "code",
   "execution_count": 47,
   "metadata": {},
   "outputs": [],
   "source": [
    "list_primitives_func.extend(list_quantiles_func)"
   ]
  },
  {
   "cell_type": "code",
   "execution_count": 48,
   "metadata": {},
   "outputs": [
    {
     "data": {
      "text/plain": [
       "['sum',\n",
       " 'mean',\n",
       " 'median',\n",
       " 'min',\n",
       " 'max',\n",
       " 'std',\n",
       " 'var',\n",
       " 'skew',\n",
       " ('kurtosis',\n",
       "  <function pandas.core.series.Series.kurt(self, axis: 'Axis | None' = 0, skipna: 'bool' = True, numeric_only: 'bool' = False, **kwargs)>),\n",
       " ('range', <function __main__.<lambda>(i)>),\n",
       " ('quantile_0.05', <function __main__.<listcomp>.<lambda>(i, q=0.05)>),\n",
       " ('quantile_0.25', <function __main__.<listcomp>.<lambda>(i, q=0.25)>),\n",
       " ('quantile_0.5', <function __main__.<listcomp>.<lambda>(i, q=0.5)>),\n",
       " ('quantile_0.75', <function __main__.<listcomp>.<lambda>(i, q=0.75)>),\n",
       " ('quantile_0.95', <function __main__.<listcomp>.<lambda>(i, q=0.95)>)]"
      ]
     },
     "execution_count": 48,
     "metadata": {},
     "output_type": "execute_result"
    }
   ],
   "source": [
    "list_primitives_func"
   ]
  },
  {
   "cell_type": "code",
   "execution_count": 49,
   "metadata": {},
   "outputs": [],
   "source": [
    "df_aux = df.groupby(['sex']).agg(\n",
    "    {\n",
    "        'age': list_primitives_func\n",
    "    }\n",
    ")"
   ]
  },
  {
   "cell_type": "code",
   "execution_count": 50,
   "metadata": {},
   "outputs": [
    {
     "data": {
      "text/html": [
       "<div>\n",
       "<style scoped>\n",
       "    .dataframe tbody tr th:only-of-type {\n",
       "        vertical-align: middle;\n",
       "    }\n",
       "\n",
       "    .dataframe tbody tr th {\n",
       "        vertical-align: top;\n",
       "    }\n",
       "\n",
       "    .dataframe thead tr th {\n",
       "        text-align: left;\n",
       "    }\n",
       "\n",
       "    .dataframe thead tr:last-of-type th {\n",
       "        text-align: right;\n",
       "    }\n",
       "</style>\n",
       "<table border=\"1\" class=\"dataframe\">\n",
       "  <thead>\n",
       "    <tr>\n",
       "      <th></th>\n",
       "      <th colspan=\"15\" halign=\"left\">age</th>\n",
       "    </tr>\n",
       "    <tr>\n",
       "      <th></th>\n",
       "      <th>sum</th>\n",
       "      <th>mean</th>\n",
       "      <th>median</th>\n",
       "      <th>min</th>\n",
       "      <th>max</th>\n",
       "      <th>std</th>\n",
       "      <th>var</th>\n",
       "      <th>skew</th>\n",
       "      <th>kurtosis</th>\n",
       "      <th>range</th>\n",
       "      <th>quantile_0.05</th>\n",
       "      <th>quantile_0.25</th>\n",
       "      <th>quantile_0.5</th>\n",
       "      <th>quantile_0.75</th>\n",
       "      <th>quantile_0.95</th>\n",
       "    </tr>\n",
       "    <tr>\n",
       "      <th>sex</th>\n",
       "      <th></th>\n",
       "      <th></th>\n",
       "      <th></th>\n",
       "      <th></th>\n",
       "      <th></th>\n",
       "      <th></th>\n",
       "      <th></th>\n",
       "      <th></th>\n",
       "      <th></th>\n",
       "      <th></th>\n",
       "      <th></th>\n",
       "      <th></th>\n",
       "      <th></th>\n",
       "      <th></th>\n",
       "      <th></th>\n",
       "    </tr>\n",
       "  </thead>\n",
       "  <tbody>\n",
       "    <tr>\n",
       "      <th>1.0</th>\n",
       "      <td>10900.0</td>\n",
       "      <td>46.382979</td>\n",
       "      <td>48.0</td>\n",
       "      <td>19.0</td>\n",
       "      <td>75.0</td>\n",
       "      <td>13.120665</td>\n",
       "      <td>172.151846</td>\n",
       "      <td>-0.092271</td>\n",
       "      <td>-0.619879</td>\n",
       "      <td>56.0</td>\n",
       "      <td>23.0</td>\n",
       "      <td>37.0</td>\n",
       "      <td>48.0</td>\n",
       "      <td>55.0</td>\n",
       "      <td>68.0</td>\n",
       "    </tr>\n",
       "    <tr>\n",
       "      <th>2.0</th>\n",
       "      <td>10545.0</td>\n",
       "      <td>50.942029</td>\n",
       "      <td>53.0</td>\n",
       "      <td>20.0</td>\n",
       "      <td>79.0</td>\n",
       "      <td>12.697623</td>\n",
       "      <td>161.229633</td>\n",
       "      <td>-0.394162</td>\n",
       "      <td>-0.596718</td>\n",
       "      <td>59.0</td>\n",
       "      <td>28.0</td>\n",
       "      <td>41.0</td>\n",
       "      <td>53.0</td>\n",
       "      <td>60.0</td>\n",
       "      <td>68.0</td>\n",
       "    </tr>\n",
       "  </tbody>\n",
       "</table>\n",
       "</div>"
      ],
      "text/plain": [
       "         age                                                                 \\\n",
       "         sum       mean median   min   max        std         var      skew   \n",
       "sex                                                                           \n",
       "1.0  10900.0  46.382979   48.0  19.0  75.0  13.120665  172.151846 -0.092271   \n",
       "2.0  10545.0  50.942029   53.0  20.0  79.0  12.697623  161.229633 -0.394162   \n",
       "\n",
       "                                                                            \\\n",
       "     kurtosis range quantile_0.05 quantile_0.25 quantile_0.5 quantile_0.75   \n",
       "sex                                                                          \n",
       "1.0 -0.619879  56.0          23.0          37.0         48.0          55.0   \n",
       "2.0 -0.596718  59.0          28.0          41.0         53.0          60.0   \n",
       "\n",
       "                   \n",
       "    quantile_0.95  \n",
       "sex                \n",
       "1.0          68.0  \n",
       "2.0          68.0  "
      ]
     },
     "execution_count": 50,
     "metadata": {},
     "output_type": "execute_result"
    }
   ],
   "source": [
    "df_aux"
   ]
  },
  {
   "cell_type": "code",
   "execution_count": 51,
   "metadata": {},
   "outputs": [],
   "source": [
    "def agg_num(df, groupby, variables, quantiles=[0.05, 0.25, 0.75, 0.95]):\n",
    "\n",
    "    list_funcs = [\n",
    "        'sum', 'mean', 'median', 'min', 'max', 'std', 'var', 'skew',\n",
    "        ('kurtosis', pd.Series.kurtosis), ('range', lambda i: np.max(i) - np.min(i))]\n",
    "    \n",
    "    list_quantiles = [\n",
    "        (f'quantile_{q}', lambda i, q=q: pd.Series.quantile(i, q=q)) for q in quantiles]\n",
    "    \n",
    "    list_funcs.extend(list_quantiles)\n",
    "\n",
    "    dict_funcs = {var: list_funcs for var in variables}\n",
    "\n",
    "    df_agg = df.groupby(groupby).agg(dict_funcs)\n",
    "\n",
    "    df_agg.columns = [f'{col[0]}_{col[1]}' for col in df_agg.columns]\n",
    "\n",
    "    return df_agg.reset_index()"
   ]
  },
  {
   "cell_type": "code",
   "execution_count": 52,
   "metadata": {},
   "outputs": [
    {
     "data": {
      "text/html": [
       "<div>\n",
       "<style scoped>\n",
       "    .dataframe tbody tr th:only-of-type {\n",
       "        vertical-align: middle;\n",
       "    }\n",
       "\n",
       "    .dataframe tbody tr th {\n",
       "        vertical-align: top;\n",
       "    }\n",
       "\n",
       "    .dataframe thead th {\n",
       "        text-align: right;\n",
       "    }\n",
       "</style>\n",
       "<table border=\"1\" class=\"dataframe\">\n",
       "  <thead>\n",
       "    <tr style=\"text-align: right;\">\n",
       "      <th></th>\n",
       "      <th>age</th>\n",
       "      <th>sex</th>\n",
       "      <th>bmi</th>\n",
       "      <th>bp</th>\n",
       "      <th>s1</th>\n",
       "      <th>s2</th>\n",
       "      <th>s3</th>\n",
       "      <th>s4</th>\n",
       "      <th>s5</th>\n",
       "      <th>s6</th>\n",
       "      <th>target</th>\n",
       "    </tr>\n",
       "  </thead>\n",
       "  <tbody>\n",
       "    <tr>\n",
       "      <th>0</th>\n",
       "      <td>59.0</td>\n",
       "      <td>2.0</td>\n",
       "      <td>32.1</td>\n",
       "      <td>101.0</td>\n",
       "      <td>157.0</td>\n",
       "      <td>93.2</td>\n",
       "      <td>38.0</td>\n",
       "      <td>4.0</td>\n",
       "      <td>4.8598</td>\n",
       "      <td>87.0</td>\n",
       "      <td>151.0</td>\n",
       "    </tr>\n",
       "    <tr>\n",
       "      <th>1</th>\n",
       "      <td>48.0</td>\n",
       "      <td>1.0</td>\n",
       "      <td>21.6</td>\n",
       "      <td>87.0</td>\n",
       "      <td>183.0</td>\n",
       "      <td>103.2</td>\n",
       "      <td>70.0</td>\n",
       "      <td>3.0</td>\n",
       "      <td>3.8918</td>\n",
       "      <td>69.0</td>\n",
       "      <td>75.0</td>\n",
       "    </tr>\n",
       "    <tr>\n",
       "      <th>2</th>\n",
       "      <td>72.0</td>\n",
       "      <td>2.0</td>\n",
       "      <td>30.5</td>\n",
       "      <td>93.0</td>\n",
       "      <td>156.0</td>\n",
       "      <td>93.6</td>\n",
       "      <td>41.0</td>\n",
       "      <td>4.0</td>\n",
       "      <td>4.6728</td>\n",
       "      <td>85.0</td>\n",
       "      <td>141.0</td>\n",
       "    </tr>\n",
       "    <tr>\n",
       "      <th>3</th>\n",
       "      <td>24.0</td>\n",
       "      <td>1.0</td>\n",
       "      <td>25.3</td>\n",
       "      <td>84.0</td>\n",
       "      <td>198.0</td>\n",
       "      <td>131.4</td>\n",
       "      <td>40.0</td>\n",
       "      <td>5.0</td>\n",
       "      <td>4.8903</td>\n",
       "      <td>89.0</td>\n",
       "      <td>206.0</td>\n",
       "    </tr>\n",
       "    <tr>\n",
       "      <th>4</th>\n",
       "      <td>50.0</td>\n",
       "      <td>1.0</td>\n",
       "      <td>23.0</td>\n",
       "      <td>101.0</td>\n",
       "      <td>192.0</td>\n",
       "      <td>125.4</td>\n",
       "      <td>52.0</td>\n",
       "      <td>4.0</td>\n",
       "      <td>4.2905</td>\n",
       "      <td>80.0</td>\n",
       "      <td>135.0</td>\n",
       "    </tr>\n",
       "  </tbody>\n",
       "</table>\n",
       "</div>"
      ],
      "text/plain": [
       "    age  sex   bmi     bp     s1     s2    s3   s4      s5    s6  target\n",
       "0  59.0  2.0  32.1  101.0  157.0   93.2  38.0  4.0  4.8598  87.0   151.0\n",
       "1  48.0  1.0  21.6   87.0  183.0  103.2  70.0  3.0  3.8918  69.0    75.0\n",
       "2  72.0  2.0  30.5   93.0  156.0   93.6  41.0  4.0  4.6728  85.0   141.0\n",
       "3  24.0  1.0  25.3   84.0  198.0  131.4  40.0  5.0  4.8903  89.0   206.0\n",
       "4  50.0  1.0  23.0  101.0  192.0  125.4  52.0  4.0  4.2905  80.0   135.0"
      ]
     },
     "execution_count": 52,
     "metadata": {},
     "output_type": "execute_result"
    }
   ],
   "source": [
    "df.head()"
   ]
  },
  {
   "cell_type": "code",
   "execution_count": 53,
   "metadata": {},
   "outputs": [],
   "source": [
    "df_aux = agg_num(X, groupby=['sex'], variables=['age', 'bmi'])"
   ]
  },
  {
   "cell_type": "code",
   "execution_count": 54,
   "metadata": {},
   "outputs": [
    {
     "data": {
      "text/html": [
       "<div>\n",
       "<style scoped>\n",
       "    .dataframe tbody tr th:only-of-type {\n",
       "        vertical-align: middle;\n",
       "    }\n",
       "\n",
       "    .dataframe tbody tr th {\n",
       "        vertical-align: top;\n",
       "    }\n",
       "\n",
       "    .dataframe thead th {\n",
       "        text-align: right;\n",
       "    }\n",
       "</style>\n",
       "<table border=\"1\" class=\"dataframe\">\n",
       "  <thead>\n",
       "    <tr style=\"text-align: right;\">\n",
       "      <th></th>\n",
       "      <th>0</th>\n",
       "      <th>1</th>\n",
       "    </tr>\n",
       "  </thead>\n",
       "  <tbody>\n",
       "    <tr>\n",
       "      <th>sex</th>\n",
       "      <td>1.000000</td>\n",
       "      <td>2.000000</td>\n",
       "    </tr>\n",
       "    <tr>\n",
       "      <th>age_sum</th>\n",
       "      <td>10900.000000</td>\n",
       "      <td>10545.000000</td>\n",
       "    </tr>\n",
       "    <tr>\n",
       "      <th>age_mean</th>\n",
       "      <td>46.382979</td>\n",
       "      <td>50.942029</td>\n",
       "    </tr>\n",
       "    <tr>\n",
       "      <th>age_median</th>\n",
       "      <td>48.000000</td>\n",
       "      <td>53.000000</td>\n",
       "    </tr>\n",
       "    <tr>\n",
       "      <th>age_min</th>\n",
       "      <td>19.000000</td>\n",
       "      <td>20.000000</td>\n",
       "    </tr>\n",
       "    <tr>\n",
       "      <th>age_max</th>\n",
       "      <td>75.000000</td>\n",
       "      <td>79.000000</td>\n",
       "    </tr>\n",
       "    <tr>\n",
       "      <th>age_std</th>\n",
       "      <td>13.120665</td>\n",
       "      <td>12.697623</td>\n",
       "    </tr>\n",
       "    <tr>\n",
       "      <th>age_var</th>\n",
       "      <td>172.151846</td>\n",
       "      <td>161.229633</td>\n",
       "    </tr>\n",
       "    <tr>\n",
       "      <th>age_skew</th>\n",
       "      <td>-0.092271</td>\n",
       "      <td>-0.394162</td>\n",
       "    </tr>\n",
       "    <tr>\n",
       "      <th>age_kurtosis</th>\n",
       "      <td>-0.619879</td>\n",
       "      <td>-0.596718</td>\n",
       "    </tr>\n",
       "    <tr>\n",
       "      <th>age_range</th>\n",
       "      <td>56.000000</td>\n",
       "      <td>59.000000</td>\n",
       "    </tr>\n",
       "    <tr>\n",
       "      <th>age_quantile_0.05</th>\n",
       "      <td>23.000000</td>\n",
       "      <td>28.000000</td>\n",
       "    </tr>\n",
       "    <tr>\n",
       "      <th>age_quantile_0.25</th>\n",
       "      <td>37.000000</td>\n",
       "      <td>41.000000</td>\n",
       "    </tr>\n",
       "    <tr>\n",
       "      <th>age_quantile_0.75</th>\n",
       "      <td>55.000000</td>\n",
       "      <td>60.000000</td>\n",
       "    </tr>\n",
       "    <tr>\n",
       "      <th>age_quantile_0.95</th>\n",
       "      <td>68.000000</td>\n",
       "      <td>68.000000</td>\n",
       "    </tr>\n",
       "    <tr>\n",
       "      <th>bmi_sum</th>\n",
       "      <td>6112.500000</td>\n",
       "      <td>5545.600000</td>\n",
       "    </tr>\n",
       "    <tr>\n",
       "      <th>bmi_mean</th>\n",
       "      <td>26.010638</td>\n",
       "      <td>26.790338</td>\n",
       "    </tr>\n",
       "    <tr>\n",
       "      <th>bmi_median</th>\n",
       "      <td>25.500000</td>\n",
       "      <td>25.900000</td>\n",
       "    </tr>\n",
       "    <tr>\n",
       "      <th>bmi_min</th>\n",
       "      <td>18.500000</td>\n",
       "      <td>18.000000</td>\n",
       "    </tr>\n",
       "    <tr>\n",
       "      <th>bmi_max</th>\n",
       "      <td>41.300000</td>\n",
       "      <td>42.200000</td>\n",
       "    </tr>\n",
       "    <tr>\n",
       "      <th>bmi_std</th>\n",
       "      <td>4.571242</td>\n",
       "      <td>4.210251</td>\n",
       "    </tr>\n",
       "    <tr>\n",
       "      <th>bmi_var</th>\n",
       "      <td>20.896254</td>\n",
       "      <td>17.726217</td>\n",
       "    </tr>\n",
       "    <tr>\n",
       "      <th>bmi_skew</th>\n",
       "      <td>0.490149</td>\n",
       "      <td>0.827243</td>\n",
       "    </tr>\n",
       "    <tr>\n",
       "      <th>bmi_kurtosis</th>\n",
       "      <td>-0.367948</td>\n",
       "      <td>0.737248</td>\n",
       "    </tr>\n",
       "    <tr>\n",
       "      <th>bmi_range</th>\n",
       "      <td>22.800000</td>\n",
       "      <td>24.200000</td>\n",
       "    </tr>\n",
       "    <tr>\n",
       "      <th>bmi_quantile_0.05</th>\n",
       "      <td>19.900000</td>\n",
       "      <td>21.200000</td>\n",
       "    </tr>\n",
       "    <tr>\n",
       "      <th>bmi_quantile_0.25</th>\n",
       "      <td>22.200000</td>\n",
       "      <td>24.000000</td>\n",
       "    </tr>\n",
       "    <tr>\n",
       "      <th>bmi_quantile_0.75</th>\n",
       "      <td>29.550000</td>\n",
       "      <td>29.000000</td>\n",
       "    </tr>\n",
       "    <tr>\n",
       "      <th>bmi_quantile_0.95</th>\n",
       "      <td>33.950000</td>\n",
       "      <td>34.600000</td>\n",
       "    </tr>\n",
       "  </tbody>\n",
       "</table>\n",
       "</div>"
      ],
      "text/plain": [
       "                              0             1\n",
       "sex                    1.000000      2.000000\n",
       "age_sum            10900.000000  10545.000000\n",
       "age_mean              46.382979     50.942029\n",
       "age_median            48.000000     53.000000\n",
       "age_min               19.000000     20.000000\n",
       "age_max               75.000000     79.000000\n",
       "age_std               13.120665     12.697623\n",
       "age_var              172.151846    161.229633\n",
       "age_skew              -0.092271     -0.394162\n",
       "age_kurtosis          -0.619879     -0.596718\n",
       "age_range             56.000000     59.000000\n",
       "age_quantile_0.05     23.000000     28.000000\n",
       "age_quantile_0.25     37.000000     41.000000\n",
       "age_quantile_0.75     55.000000     60.000000\n",
       "age_quantile_0.95     68.000000     68.000000\n",
       "bmi_sum             6112.500000   5545.600000\n",
       "bmi_mean              26.010638     26.790338\n",
       "bmi_median            25.500000     25.900000\n",
       "bmi_min               18.500000     18.000000\n",
       "bmi_max               41.300000     42.200000\n",
       "bmi_std                4.571242      4.210251\n",
       "bmi_var               20.896254     17.726217\n",
       "bmi_skew               0.490149      0.827243\n",
       "bmi_kurtosis          -0.367948      0.737248\n",
       "bmi_range             22.800000     24.200000\n",
       "bmi_quantile_0.05     19.900000     21.200000\n",
       "bmi_quantile_0.25     22.200000     24.000000\n",
       "bmi_quantile_0.75     29.550000     29.000000\n",
       "bmi_quantile_0.95     33.950000     34.600000"
      ]
     },
     "execution_count": 54,
     "metadata": {},
     "output_type": "execute_result"
    }
   ],
   "source": [
    "df_aux.T"
   ]
  },
  {
   "cell_type": "code",
   "execution_count": 55,
   "metadata": {},
   "outputs": [
    {
     "data": {
      "text/plain": [
       "-1.1396107748902335"
      ]
     },
     "execution_count": 55,
     "metadata": {},
     "output_type": "execute_result"
    }
   ],
   "source": [
    "kurtosis([1, 2, 3, 4, 5, 6, 2, 3, np.nan, 5, 1, 2], nan_policy='omit')"
   ]
  },
  {
   "cell_type": "code",
   "execution_count": 56,
   "metadata": {},
   "outputs": [
    {
     "data": {
      "text/plain": [
       "-1.0660179581503892"
      ]
     },
     "execution_count": 56,
     "metadata": {},
     "output_type": "execute_result"
    }
   ],
   "source": [
    "pd.Series.kurtosis(pd.Series([1, 2, 3, 4, 5, 6, 2, 3, np.nan, 5, 1, 2]))"
   ]
  },
  {
   "cell_type": "code",
   "execution_count": 57,
   "metadata": {},
   "outputs": [
    {
     "data": {
      "text/plain": [
       "1.0"
      ]
     },
     "execution_count": 57,
     "metadata": {},
     "output_type": "execute_result"
    }
   ],
   "source": [
    "pd.Series.quantile(pd.Series([1, 2, 3, 4, 5, 6, 2, 3, np.nan, 5, 1, 2]), q=0.05)"
   ]
  },
  {
   "cell_type": "code",
   "execution_count": 58,
   "metadata": {},
   "outputs": [
    {
     "data": {
      "text/plain": [
       "1.0"
      ]
     },
     "execution_count": 58,
     "metadata": {},
     "output_type": "execute_result"
    }
   ],
   "source": [
    "np.nanquantile([1, 2, 3, 4, 5, 6, 2, 3, np.nan, 5, 1, 2], q=0.05)"
   ]
  },
  {
   "cell_type": "code",
   "execution_count": 59,
   "metadata": {},
   "outputs": [
    {
     "data": {
      "text/plain": [
       "nan"
      ]
     },
     "execution_count": 59,
     "metadata": {},
     "output_type": "execute_result"
    }
   ],
   "source": [
    "np.quantile([1, 2, 3, 4, 5, 6, 2, 3, np.nan, 5, 1, 2], q=0.05)"
   ]
  },
  {
   "cell_type": "code",
   "execution_count": 60,
   "metadata": {},
   "outputs": [],
   "source": [
    "data = norm.rvs(size=1000, random_state=3)"
   ]
  },
  {
   "cell_type": "code",
   "execution_count": 61,
   "metadata": {},
   "outputs": [
    {
     "data": {
      "text/plain": [
       "-0.06928694200380558"
      ]
     },
     "execution_count": 61,
     "metadata": {},
     "output_type": "execute_result"
    }
   ],
   "source": [
    "kurtosis(data)"
   ]
  },
  {
   "cell_type": "code",
   "execution_count": 62,
   "metadata": {},
   "outputs": [
    {
     "data": {
      "text/plain": [
       "-0.06361054377246234"
      ]
     },
     "execution_count": 62,
     "metadata": {},
     "output_type": "execute_result"
    }
   ],
   "source": [
    "pd.Series.kurtosis(pd.Series(data))"
   ]
  },
  {
   "cell_type": "code",
   "execution_count": 63,
   "metadata": {},
   "outputs": [
    {
     "data": {
      "text/plain": [
       "[<matplotlib.lines.Line2D at 0x7bb24e4bfd90>]"
      ]
     },
     "execution_count": 63,
     "metadata": {},
     "output_type": "execute_result"
    },
    {
     "data": {
      "image/png": "[encoded data removed]",
      "text/plain": [
       "<Figure size 640x480 with 1 Axes>"
      ]
     },
     "metadata": {},
     "output_type": "display_data"
    }
   ],
   "source": [
    "plt.plot(data)"
   ]
  },
  {
   "cell_type": "code",
   "execution_count": null,
   "metadata": {},
   "outputs": [],
   "source": []
  }
 ],
 "metadata": {
  "kernelspec": {
   "display_name": "Python 3 (ipykernel)",
   "language": "python",
   "name": "python3"
  },
  "language_info": {
   "codemirror_mode": {
    "name": "ipython",
    "version": 3
   },
   "file_extension": ".py",
   "mimetype": "text/x-python",
   "name": "python",
   "nbconvert_exporter": "python",
   "pygments_lexer": "ipython3",
   "version": "3.9.17"
  }
 },
 "nbformat": 4,
 "nbformat_minor": 4
}
