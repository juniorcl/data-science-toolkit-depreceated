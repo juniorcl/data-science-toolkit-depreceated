{
 "cells": [
  {
   "cell_type": "markdown",
   "id": "46aa9628-ac29-402b-ad81-aba6931216ad",
   "metadata": {},
   "source": [
    "# Imports"
   ]
  },
  {
   "cell_type": "code",
   "execution_count": 1,
   "id": "07879a3e-8b6e-46e0-aa2d-7840734f082a",
   "metadata": {},
   "outputs": [
    {
     "name": "stderr",
     "output_type": "stream",
     "text": [
      "/home/junior/.pyenv/versions/3.10.14/envs/dstoolkit/lib/python3.10/site-packages/tqdm/auto.py:21: TqdmWarning: IProgress not found. Please update jupyter and ipywidgets. See https://ipywidgets.readthedocs.io/en/stable/user_install.html\n",
      "  from .autonotebook import tqdm as notebook_tqdm\n"
     ]
    }
   ],
   "source": [
    "import shap\n",
    "import optuna\n",
    "\n",
    "import numpy   as np\n",
    "import pandas  as pd\n",
    "import seaborn as sns\n",
    "\n",
    "import matplotlib.pyplot as plt\n",
    "\n",
    "from sklearn    import metrics\n",
    "from lightgbm   import LGBMRegressor\n",
    "\n",
    "from BorutaShap import BorutaShap\n",
    "\n",
    "from sklearn.datasets          import load_diabetes\n",
    "from sklearn.inspection        import permutation_importance\n",
    "from sklearn.preprocessing     import QuantileTransformer\n",
    "from sklearn.model_selection   import train_test_split, cross_validate\n",
    "from sklearn.feature_selection import SelectFromModel"
   ]
  },
  {
   "cell_type": "markdown",
   "id": "af64ea1f-9515-4926-91b7-aee743d90770",
   "metadata": {},
   "source": [
    "## Functions"
   ]
  },
  {
   "cell_type": "code",
   "execution_count": 2,
   "id": "a909587a-6198-45e4-9c5a-6e23ea479366",
   "metadata": {},
   "outputs": [],
   "source": [
    "random_state = 42\n",
    "np.random.seed(random_state)\n",
    "\n",
    "pd.options.display.max_columns = None\n",
    "pd.options.display.max_rows = 2000"
   ]
  },
  {
   "cell_type": "code",
   "execution_count": 3,
   "id": "5b1b2093-7a65-4136-9582-008a9aa419ee",
   "metadata": {},
   "outputs": [],
   "source": [
    "def get_dimensions(df):\n",
    "\n",
    "    print(\"Number of Rows: {}\".format(df.shape[0]))\n",
    "    print(\"NUmber of Cols: {}\".format(df.shape[1]))"
   ]
  },
  {
   "cell_type": "markdown",
   "id": "94a4d8c8-48ac-4c64-ab78-cb9d31736dc1",
   "metadata": {},
   "source": [
    "# Loading Datasets"
   ]
  },
  {
   "cell_type": "code",
   "execution_count": 4,
   "id": "f9ec1a61-bc4c-4668-a602-543ad968b96a",
   "metadata": {},
   "outputs": [],
   "source": [
    "X, y = load_diabetes(return_X_y=True, as_frame=True, scaled=False)\n",
    "df = pd.concat([X, y], axis=1)\n",
    "\n",
    "X = df.drop(columns='target')\n",
    "y = df.loc[:, ['target']]"
   ]
  },
  {
   "cell_type": "markdown",
   "id": "5846d764-6010-4ac4-ac55-3a7c881b5729",
   "metadata": {},
   "source": [
    "# Machine Learning"
   ]
  },
  {
   "cell_type": "markdown",
   "id": "d4be7df1-8d5c-4036-9d08-fafe748b7543",
   "metadata": {},
   "source": [
    "## LightGBM CV"
   ]
  },
  {
   "cell_type": "code",
   "execution_count": 5,
   "id": "8efa9f64-5dee-4938-9391-852d0438cf56",
   "metadata": {},
   "outputs": [],
   "source": [
    "X_train, X_test, y_train, y_test = train_test_split(X, y, test_size=0.1, random_state=42)"
   ]
  },
  {
   "cell_type": "code",
   "execution_count": 6,
   "id": "88804ec3-4cfc-47b9-82d9-ae8b10df2da4",
   "metadata": {},
   "outputs": [],
   "source": [
    "def get_regression_metrics(y, col_target='target', col_pred='pred', decimals=0):\n",
    "\n",
    "    \"\"\"\n",
    "    Function to calculate the regression metrics: R2, RMSE, MAE, MAPE, MedAE\n",
    "\n",
    "    Parameters\n",
    "    ----------\n",
    "    y : DataFrame\n",
    "        Data frame with target and prediction.\n",
    "\n",
    "    col_target : str\n",
    "        The name of the columns with the target.\n",
    "\n",
    "    col_pred : str\n",
    "        The name of the columns with the prediction.\n",
    "\n",
    "    decimals : int\n",
    "        Number of decimal places to round.\n",
    "    \n",
    "    Returns\n",
    "    -------\n",
    "    dict_results : Dict\n",
    "        Dictionary with metric results.\n",
    "    \"\"\"\n",
    "\n",
    "    r2 = metrics.r2_score(y[col_target], y[col_pred])\n",
    "\n",
    "    rmse = metrics.root_mean_squared_error(y[col_target], y[col_pred])\n",
    "\n",
    "    mae = metrics.mean_absolute_error(y[col_target], y[col_pred])\n",
    "\n",
    "    mape = metrics.mean_absolute_percentage_error(y[col_target], y[col_pred])\n",
    "\n",
    "    medae = metrics.median_absolute_error(y[col_target], y[col_pred])\n",
    "\n",
    "    dict_results = {\n",
    "        \"R2\": np.round(r2, decimals), \"RMSE\": np.round(rmse, decimals), \n",
    "        \"MAE\": np.round(mae, decimals), \"MAPE\": np.round(mape, decimals), \"MedAE\": np.round(medae, decimals)}\n",
    "\n",
    "    return dict_results"
   ]
  },
  {
   "cell_type": "code",
   "execution_count": 7,
   "id": "9496beaa-1ff6-4a28-bd9d-41ae6f3d4581",
   "metadata": {},
   "outputs": [],
   "source": [
    "def select_from_model(estimator, X_train, y_train, target='target', threshold=None, max_features=None):\n",
    "\n",
    "    sfm = SelectFromModel(estimator, threshold=threshold, max_features=max_features)\n",
    "    sfm.fit(X_train, y_train[target])\n",
    "\n",
    "    list_selected_features = X_train.loc[:, sfm.get_support()].columns.tolist()\n",
    "\n",
    "    return list_selected_features"
   ]
  },
  {
   "cell_type": "code",
   "execution_count": 8,
   "id": "305804c2-ffe2-4af7-87bb-5b760dc28c3b",
   "metadata": {},
   "outputs": [],
   "source": [
    "def fit_lgbm_regressor_cv(X_train, y_train, X_test, y_test, target, selected_features=None, cv=3, params=None, random_state=42):\n",
    "\n",
    "    if selected_features:\n",
    "\n",
    "        X_train = X_train.loc[:, selected_features]\n",
    "        X_test = X_test.loc[:, selected_features]\n",
    "\n",
    "    cat_columns = X_train.select_dtypes(include='object')\n",
    "\n",
    "    if any(cat_columns):\n",
    "\n",
    "        print('---------------> Feature Engineering')\n",
    "        \n",
    "        X_train[cat_columns] = X_train[cat_columns].astype(\"category\")\n",
    "        X_test[cat_columns] = X_test[cat_columns].astype(\"category\")\n",
    "\n",
    "    print('---------------> Modeling')\n",
    "\n",
    "    init_params = {'objective': 'regression', 'metric': 'rmse', 'verbosity': -1, 'random_state': random_state, \"bagging_freq\": 1, 'n_jobs': -1}\n",
    "    \n",
    "    if params:\n",
    "        \n",
    "        init_params.update(params)\n",
    "\n",
    "    model = LGBMRegressor(**init_params)\n",
    "    \n",
    "    list_reg_scores = ['r2', 'neg_mean_absolute_error', 'neg_root_mean_squared_error', 'neg_median_absolute_error', 'neg_mean_absolute_percentage_error']\n",
    "\n",
    "    cv_results = cross_validate(estimator=model, X=X_train, y=y_train['target'], cv=cv, scoring=list_reg_scores)\n",
    "\n",
    "    r2_mean = np.round(cv_results['test_r2'].mean(), 2)\n",
    "    mae_mean = np.round(cv_results['test_neg_mean_absolute_error'].mean() * -1, 2)\n",
    "    rmse_mean = np.round(cv_results['test_neg_root_mean_squared_error'].mean() * -1, 2)\n",
    "    medae_mean = np.round(cv_results['test_neg_median_absolute_error'].mean() * -1, 2)\n",
    "    mape_mean = np.round(cv_results['test_neg_mean_absolute_percentage_error'].mean() * -1, 2)\n",
    "\n",
    "    model.fit(X_train, y_train[target])\n",
    "    \n",
    "    y_test['pred'] = model.predict(X_test)\n",
    "\n",
    "    dict_results = get_regression_metrics(y_test, target, decimals=2)\n",
    "    \n",
    "    r2, mae, rmse, mape, medae = dict_results['R2'], dict_results['MAE'], dict_results['RMSE'], dict_results['MAPE'], dict_results['MedAE']\n",
    "\n",
    "    print('---------------> Metrics')\n",
    "\n",
    "    print(f\"Cross Validation  R2: {r2_mean}, MAE: {mae_mean}, RMSE: {rmse_mean}, MAPE: {mape_mean}, MedAE: {medae_mean}\")\n",
    "    print(f\"Test  Validation  R2: {r2}, MAE: {mae}, RMSE: {rmse}, MAPE: {mape}, MedAE: {medae}\")\n",
    "\n",
    "    return model"
   ]
  },
  {
   "cell_type": "code",
   "execution_count": 9,
   "id": "3c3abf53-82cc-4616-8d02-2ce169fb9b9d",
   "metadata": {},
   "outputs": [],
   "source": [
    "def boruta_shap_regression(X_train, y_train, model=None, target='target', n_trials=100, sample=False, train_or_test='test', normalize=True, verbose=False):\n",
    "    \n",
    "    boruta_shap = BorutaShap(model, importance_measure='shap', classification=False)\n",
    "    boruta_shap.fit(\n",
    "        X=X_train, y=y_train[target], n_trials=n_trials, sample=sample, \n",
    "        train_or_test=train_or_test, normalize=normalize, verbose=verbose)\n",
    "\n",
    "    list_selected_features = boruta_shap.Subset().columns.tolist()\n",
    "    \n",
    "    return list_selected_features"
   ]
  },
  {
   "cell_type": "code",
   "execution_count": 10,
   "id": "97e05f1d-c512-49fe-9acb-f492914065d7",
   "metadata": {},
   "outputs": [],
   "source": [
    "def tune_params_lgbm_regression_cv(X_train, y_train, selected_features=None, n_trials=100, target='target', scoring='r2', direction='maximize', random_state=42):\n",
    "\n",
    "    if selected_features:\n",
    "\n",
    "        X_train = X_train.loc[:, selected_features]\n",
    "    \n",
    "    def objective(trial):\n",
    "    \n",
    "        param = {\n",
    "            \"objective\": \"regression\",\n",
    "            \"metric\": scoring,\n",
    "            \"verbosity\": -1,\n",
    "            \"bagging_freq\": 1,\n",
    "            \"n_jobs\": -1,\n",
    "            \"learning_rate\": trial.suggest_float(\"learning_rate\", 1e-3, 0.1, log=True),\n",
    "            \"num_leaves\": trial.suggest_int(\"num_leaves\", 2, 2**10),\n",
    "            \"subsample\": trial.suggest_float(\"subsample\", 0.05, 1.0),\n",
    "            \"colsample_bytree\": trial.suggest_float(\"colsample_bytree\", 0.05, 1.0),\n",
    "            \"min_data_in_leaf\": trial.suggest_int(\"min_data_in_leaf\", 1, 100)\n",
    "        }\n",
    "        \n",
    "        cv_results = cross_validate(\n",
    "            estimator=LGBMRegressor(**param), scoring=scoring, cv=3,\n",
    "            X=X_train, y=y_train[target])\n",
    "    \n",
    "        score_mean = cv_results['test_score'].mean()\n",
    "    \n",
    "        return score_mean\n",
    "    \n",
    "    optuna.logging.set_verbosity(optuna.logging.WARNING)\n",
    "\n",
    "    study = optuna.create_study(direction=direction)\n",
    "    study.optimize(objective, n_trials=n_trials)\n",
    "\n",
    "    best_params = {'objective': 'regression', 'verbosity': -1, 'random_state': random_state, 'metric': scoring, 'n_jobs': -1}\n",
    "    best_params.update(study.best_params)\n",
    "    \n",
    "    return best_params"
   ]
  },
  {
   "cell_type": "code",
   "execution_count": 11,
   "id": "4519081b-fc6c-4f37-a321-a315e4d536e6",
   "metadata": {},
   "outputs": [],
   "source": [
    "def get_tree_feature_importance(model, X, selected_features=None):\n",
    "\n",
    "    if selected_features:\n",
    "\n",
    "        X = X.loc[:, selected_features]\n",
    "    \n",
    "    df_imp = pd.DataFrame(model.feature_importances_, X.columns).reset_index()\n",
    "    df_imp.columns = [\"Variable\", \"Importance\"]\n",
    "    df_imp = df_imp.sort_values(\"Importance\", ascending=False)\n",
    "    \n",
    "    sns.barplot(x=\"Importance\", y=\"Variable\", color=\"#006e9cff\", data=df_imp[:20])\n",
    "    \n",
    "    plt.title(f\"Importance of Variables\")\n",
    "    plt.show()\n",
    "\n",
    "    return df_imp"
   ]
  },
  {
   "cell_type": "code",
   "execution_count": 12,
   "id": "4f64f059-19ef-4dae-909a-462326dd427a",
   "metadata": {},
   "outputs": [],
   "source": [
    "def get_tree_summary_plot(model, X, selected_features=None):\n",
    "\n",
    "    if selected_features:\n",
    "\n",
    "        X = X.loc[:, selected_features]\n",
    "    \n",
    "    explainer = shap.TreeExplainer(model)\n",
    "    shap_values = explainer.shap_values(X)\n",
    "\n",
    "    shap.summary_plot(shap_values, X)"
   ]
  },
  {
   "cell_type": "code",
   "execution_count": 13,
   "id": "f5a1ddbc-f82e-4060-af25-9683e45e5bdd",
   "metadata": {},
   "outputs": [],
   "source": [
    "def get_permutation_importance(model, X, y, scoring, target='target', selected_features=None, random_state=42, n_repeats=5):\n",
    "\n",
    "    if selected_features:\n",
    "\n",
    "        X = X.loc[:, selected_features]\n",
    "    \n",
    "    dict_results = permutation_importance(\n",
    "        estimator=model, X=X, y=y[target], scoring=scoring, random_state=random_state, n_repeats=n_repeats, n_jobs=-1)\n",
    "\n",
    "    sorted_importances_idx = dict_results.importances_mean.argsort()\n",
    "    \n",
    "    df_results = pd.DataFrame(dict_results.importances[sorted_importances_idx].T, columns=X.columns[sorted_importances_idx])\n",
    "    \n",
    "    ax = df_results.plot.box(vert=False, whis=10)\n",
    "    ax.axvline(x=0, color=\"k\", linestyle=\"--\")\n",
    "    ax.set_xlabel(\"Decrease in accuracy score\")\n",
    "    \n",
    "    plt.show()\n",
    "\n",
    "    return df_results"
   ]
  },
  {
   "cell_type": "code",
   "execution_count": 17,
   "id": "a688369a-1e3d-4428-9526-7948ed56fde1",
   "metadata": {},
   "outputs": [],
   "source": [
    "def automl_lgbm_regressor_cv(X_train, y_train, X_test, y_test, selection_method='sfm', target='target', cv=3, n_trials=100, scoring='r2', direction='maximize'):\n",
    "\n",
    "    dict_results = {}\n",
    "    \n",
    "    print('--------> Standard Model')\n",
    "\n",
    "    standard_model = fit_lgbm_regressor_cv(X_train=X_train, y_train=y_train, X_test=X_test, y_test=y_test, selected_features=None, target=target, cv=cv, random_state=random_state)\n",
    "\n",
    "    dict_results['standard_model'] = standard_model\n",
    "\n",
    "    if selection_method == 'sfm':\n",
    "\n",
    "        print('\\n--------> Feature Selection', '\\n---------------> Select From Model')\n",
    "        \n",
    "        list_selected_features = select_from_model(estimator=LGBMRegressor(verbosity=-1, random_state=42, n_jobs=-1), X_train=X_train, y_train=y_train, target=target)\n",
    "\n",
    "        dict_results['selected_features'] = list_selected_features\n",
    "\n",
    "        selected_features_model = fit_lgbm_regressor_cv(\n",
    "        X_train=X_train, y_train=y_train, X_test=X_test, y_test=y_test, \n",
    "        selected_features=list_selected_features, target=target, cv=cv, random_state=random_state)\n",
    "    \n",
    "        dict_results['selected_features_model'] = selected_features_model\n",
    "    \n",
    "    elif selection_method == 'boruta':\n",
    "\n",
    "        print('\\n--------> Feature Selection', '\\n---------------> Boruta Shap')\n",
    "\n",
    "        list_selected_features = boruta_shap_regression(\n",
    "            X_train=X_train, y_train=y_train, model=LGBMRegressor(verbosity=-1, random_state=42, n_jobs=-1), \n",
    "            n_trials=100, sample=False, train_or_test='test', normalize=True, verbose=False)\n",
    "\n",
    "        dict_results['selected_features'] = list_selected_features\n",
    "\n",
    "        selected_features_model = fit_lgbm_regressor_cv(\n",
    "        X_train=X_train, y_train=y_train, X_test=X_test, y_test=y_test, \n",
    "        selected_features=list_selected_features, target=target, cv=cv, random_state=random_state)\n",
    "    \n",
    "        dict_results['selected_features_model'] = selected_features_model\n",
    "    \n",
    "    else:\n",
    "\n",
    "        list_selected_features = None\n",
    "\n",
    "    print('\\n--------> Hyperparameter Tuning')\n",
    "    \n",
    "    params = tune_params_lgbm_regression_cv(\n",
    "        X_train, y_train, selected_features=list_selected_features, n_trials=n_trials, \n",
    "        target=target, scoring=scoring, direction=direction, random_state=random_state)\n",
    "\n",
    "    dict_results['best_params'] = params\n",
    "    \n",
    "    model = fit_lgbm_regressor_cv(\n",
    "        X_train=X_train, y_train=y_train, X_test=X_test, y_test=y_test, \n",
    "        selected_features=list_selected_features, target=target, cv=cv, params=params)\n",
    "\n",
    "    dict_results['model'] = model\n",
    "    \n",
    "    print('\\n--------> Feature Importance')\n",
    "    \n",
    "    df_imp = get_tree_feature_importance(model, X_train, selected_features=list_selected_features)\n",
    "\n",
    "    dict_results['feature_importance'] = df_imp\n",
    "\n",
    "    print('\\n--------> Permutation Importance')\n",
    "\n",
    "    df_perm = get_permutation_importance(model, X_test, y_test, target=target, selected_features=list_selected_features, scoring=scoring, random_state=42, n_repeats=5)\n",
    "\n",
    "    dict_results['permutation_importance'] = df_perm\n",
    "    \n",
    "    print('\\n--------> Shap Values')\n",
    "    \n",
    "    get_tree_summary_plot(model, X_train, selected_features=list_selected_features)\n",
    "\n",
    "    return dict_results"
   ]
  },
  {
   "cell_type": "code",
   "execution_count": 19,
   "id": "b05e1fd4-4e09-40ac-862a-6a09a7684a9e",
   "metadata": {},
   "outputs": [
    {
     "name": "stdout",
     "output_type": "stream",
     "text": [
      "--------> Standard Model\n",
      "---------------> Modeling\n",
      "---------------> Metrics\n",
      "Cross Validation  R2: 0.38, MAE: 47.74, RMSE: 59.92, MAPE: 0.43, MedAE: 41.96\n",
      "Test  Validation  R2: 0.51, MAE: 43.37, RMSE: 54.51, MAPE: 0.36, MedAE: 39.1\n",
      "\n",
      "--------> Feature Selection \n",
      "---------------> Select From Model\n",
      "---------------> Modeling\n",
      "---------------> Metrics\n",
      "Cross Validation  R2: 0.35, MAE: 49.15, RMSE: 61.63, MAPE: 0.43, MedAE: 41.84\n",
      "Test  Validation  R2: 0.41, MAE: 47.22, RMSE: 60.28, MAPE: 0.39, MedAE: 45.58\n",
      "\n",
      "--------> Hyperparameter Tuning\n",
      "---------------> Modeling\n",
      "---------------> Metrics\n",
      "Cross Validation  R2: 0.34, MAE: 52.22, RMSE: 62.1, MAPE: 0.47, MedAE: 48.79\n",
      "Test  Validation  R2: 0.58, MAE: 39.72, RMSE: 50.54, MAPE: 0.36, MedAE: 31.48\n",
      "\n",
      "--------> Feature Importance\n"
     ]
    },
    {
     "data": {
      "image/png": "[encoded data removed]",
      "text/plain": [
       "<Figure size 640x480 with 1 Axes>"
      ]
     },
     "metadata": {},
     "output_type": "display_data"
    },
    {
     "name": "stdout",
     "output_type": "stream",
     "text": [
      "\n",
      "--------> Permutation Importance\n"
     ]
    },
    {
     "data": {
      "image/png": "[encoded data removed]",
      "text/plain": [
       "<Figure size 640x480 with 1 Axes>"
      ]
     },
     "metadata": {},
     "output_type": "display_data"
    },
    {
     "name": "stdout",
     "output_type": "stream",
     "text": [
      "\n",
      "--------> Shap Values\n"
     ]
    },
    {
     "data": {
      "image/png": "[encoded data removed]",
      "text/plain": [
       "<Figure size 800x390 with 2 Axes>"
      ]
     },
     "metadata": {},
     "output_type": "display_data"
    },
    {
     "name": "stdout",
     "output_type": "stream",
     "text": [
      "CPU times: user 21.2 s, sys: 11.6 s, total: 32.8 s\n",
      "Wall time: 51.7 s\n"
     ]
    }
   ],
   "source": [
    "%%time\n",
    "dict_results = automl_lgbm_regressor_cv(\n",
    "    X_train, y_train, X_test, y_test, selection_method='sfm', target='target', cv=3, n_trials=10, scoring='r2', direction='maximize')"
   ]
  },
  {
   "cell_type": "markdown",
   "id": "13d7d1ac",
   "metadata": {},
   "source": [
    "## Simples"
   ]
  },
  {
   "cell_type": "code",
   "execution_count": null,
   "id": "276badaf",
   "metadata": {},
   "outputs": [],
   "source": [
    "def fit_lgbm_regressor(X_train, y_train, X_valid, y_valid, X_test, y_test, target, params=None, random_state=42):\n",
    "\n",
    "    cat_columns = X_train.select_dtypes(include='object')\n",
    "\n",
    "    if any(cat_columns):\n",
    "\n",
    "        print('---------------> Feature Engineering')\n",
    "        \n",
    "        X_train[cat_columns] = X_train[cat_columns].astype(\"category\")\n",
    "        X_test[cat_columns] = X_test[cat_columns].astype(\"category\")\n",
    "\n",
    "    print('---------------> Modeling')\n",
    "\n",
    "    init_params = {'objective': 'regression', 'metric': 'rmse', 'verbosity': -1, 'random_state': random_state, \"bagging_freq\": 1, 'n_jobs': -1}\n",
    "    \n",
    "    if params:\n",
    "        \n",
    "        params.update(**init_params)\n",
    "        model = LGBMRegressor(**params)\n",
    "    \n",
    "    else:\n",
    "\n",
    "        model = LGBMRegressor(**init_params)\n",
    "    \n",
    "    model.fit(X_train, y_train[target], eval_set=[(X_valid, y_valid[target])])\n",
    "\n",
    "    y_train['pred'] = model.predict(X_train)\n",
    "    y_valid['pred'] = model.predict(X_valid)\n",
    "    y_test['pred'] = model.predict(X_test)\n",
    "\n",
    "    train_resul = get_regression_metrics(y_train, target, decimals=2)\n",
    "    valid_resul = get_regression_metrics(y_valid, target, decimals=2)\n",
    "    test_resul = get_regression_metrics(y_test, target, decimals=2)\n",
    "\n",
    "    print('---------------> Metrics')\n",
    "\n",
    "    print(f\"Train Results  R2: {train_resul['r2']}, MAE: {train_resul['mae']}, RMSE: {train_resul['rmse']}, MAPE: {train_resul['mape']}, MedAE: {train_resul['medae']}\")\n",
    "    print(f\"Valid Results  R2: {valid_resul['r2']}, MAE: {valid_resul['mae']}, RMSE: {valid_resul['rmse']}, MAPE: {valid_resul['mape']}, MedAE: {valid_resul['medae']}\")\n",
    "    print(f\"Test Results  R2: {test_resul['r2']}, MAE: {test_resul['mae']}, RMSE: {test_resul['rmse']}, MAPE: {test_resul['mape']}, MedAE: {test_resul['medae']}\")\n",
    "\n",
    "    return model"
   ]
  }
 ],
 "metadata": {
  "kernelspec": {
   "display_name": "Python 3 (ipykernel)",
   "language": "python",
   "name": "python3"
  },
  "language_info": {
   "codemirror_mode": {
    "name": "ipython",
    "version": 3
   },
   "file_extension": ".py",
   "mimetype": "text/x-python",
   "name": "python",
   "nbconvert_exporter": "python",
   "pygments_lexer": "ipython3",
   "version": "3.10.14"
  }
 },
 "nbformat": 4,
 "nbformat_minor": 5
}
